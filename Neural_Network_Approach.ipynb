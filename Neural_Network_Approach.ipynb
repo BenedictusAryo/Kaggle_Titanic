{
 "cells": [
  {
   "cell_type": "markdown",
   "metadata": {},
   "source": [
    "# Neural Network Approach on Titanic Dataset\n"
   ]
  },
  {
   "cell_type": "code",
   "execution_count": 1,
   "metadata": {},
   "outputs": [],
   "source": [
    "import pandas as pd \n",
    "import numpy as np\n",
    "import matplotlib.pyplot as plt\n",
    "%matplotlib inline\n",
    "import seaborn as sns\n",
    "sns.set(style='whitegrid')\n",
    "from IPython.display import Image"
   ]
  },
  {
   "cell_type": "markdown",
   "metadata": {},
   "source": [
    "## 1. Import the train and test datasets\n",
    "Explore the train and test dataset dimension"
   ]
  },
  {
   "cell_type": "code",
   "execution_count": 2,
   "metadata": {},
   "outputs": [
    {
     "name": "stdout",
     "output_type": "stream",
     "text": [
      "Dimension of train table :  (891, 12)\n",
      "Dimension of test table :  (418, 11)\n"
     ]
    }
   ],
   "source": [
    "train = pd.read_csv('train.csv')\n",
    "test = pd.read_csv('test.csv')\n",
    "print(\"Dimension of train table : \",train.shape)\n",
    "print(\"Dimension of test table : \",test.shape)"
   ]
  },
  {
   "cell_type": "markdown",
   "metadata": {},
   "source": [
    "## 2. Exploring the data\n",
    "### Data dictionary\n",
    "![title](datadictionary.png)\n",
    "### Variable Notes\n",
    "![title](variablenotes.png)"
   ]
  },
  {
   "cell_type": "markdown",
   "metadata": {},
   "source": [
    "## 3. Explore and converting age column\n",
    "\n",
    "eksplorasi categorical features seperti \"Sex\" dan \"Pclass\""
   ]
  },
  {
   "cell_type": "code",
   "execution_count": 9,
   "metadata": {},
   "outputs": [
    {
     "data": {
      "text/plain": [
       "count    714.000000\n",
       "mean      29.699118\n",
       "std       14.526497\n",
       "min        0.420000\n",
       "25%       20.125000\n",
       "50%       28.000000\n",
       "75%       38.000000\n",
       "max       80.000000\n",
       "Name: Age, dtype: float64"
      ]
     },
     "execution_count": 9,
     "metadata": {},
     "output_type": "execute_result"
    }
   ],
   "source": [
    "train[\"Age\"].describe()"
   ]
  },
  {
   "cell_type": "code",
   "execution_count": 10,
   "metadata": {},
   "outputs": [
    {
     "data": {
      "image/png": "[encoded data removed]",
      "text/plain": [
       "<Figure size 432x288 with 1 Axes>"
      ]
     },
     "metadata": {
      "needs_background": "light"
     },
     "output_type": "display_data"
    }
   ],
   "source": [
    "survived = train[train[\"Survived\"]==1]\n",
    "died = train[train[\"Survived\"]==0]\n",
    "survived[\"Age\"].plot.hist(alpha=0.5,color='red',bins=50)\n",
    "died[\"Age\"].plot.hist(alpha=0.5,color='blue',bins=50)\n",
    "plt.legend(['Survived','Died']);"
   ]
  },
  {
   "cell_type": "markdown",
   "metadata": {},
   "source": [
    "## 4. Separate continous feature into a categorical feature\n",
    "\n",
    "Create function that :\n",
    "* Use _pandas.fillna()_ method to fill all the missing value with _-0.5_\n",
    "* Cuts the **Age** column into six segments :\n",
    "    * **Missing**, from **-1** to **0**\n",
    "    * **Infant**, from **0** to **5**\n",
    "    * **Child**, from **5** to **12**\n",
    "    * **Teenager**, from **12** to **18**\n",
    "    * **Young Adult**, from **18** to **35**\n",
    "    * **Adult**, from **35** to **60**\n",
    "    * **Senior**, from **60** to **100**\n",
    "    \n",
    "The diagram below shows how the function converts the data :\n",
    "\n",
    "![title](convertvalues.png)"
   ]
  },
  {
   "cell_type": "code",
   "execution_count": 12,
   "metadata": {},
   "outputs": [
    {
     "data": {
      "image/png": "[encoded data removed]",
      "text/plain": [
       "<Figure size 432x288 with 1 Axes>"
      ]
     },
     "metadata": {
      "needs_background": "light"
     },
     "output_type": "display_data"
    }
   ],
   "source": [
    "def process_age(df,cut_points,label_names):\n",
    "    df[\"Age\"] = df[\"Age\"].fillna(-0.5)\n",
    "    df[\"Age_categories\"] = pd.cut(df[\"Age\"],cut_points,labels = label_names)\n",
    "    return df\n",
    "\n",
    "cut_points = [-1,0,5,12,18,35,60,100]\n",
    "label_names = [\"Missing\", \"Infant\", \"Child\", \"Teenager\", \"Young Adult\", \"Adult\", \"Senior\"]\n",
    "\n",
    "train = process_age(train, cut_points, label_names)\n",
    "test = process_age(test, cut_points, label_names)\n",
    "\n",
    "pivot = train.pivot_table(index=\"Age_categories\", values='Survived')\n",
    "pivot.plot.bar(color='pink');"
   ]
  },
  {
   "cell_type": "markdown",
   "metadata": {},
   "source": [
    "## 5. Preparing data for Machine Learning\n",
    "\n",
    "features columns that useful for predicting survival :\n",
    "\n",
    "* **Sex**\n",
    "* **Pclass**\n",
    "* **Age**, atau setelah pengkategorian menjadi **Age_categories**"
   ]
  },
  {
   "cell_type": "code",
   "execution_count": 13,
   "metadata": {},
   "outputs": [
    {
     "name": "stdout",
     "output_type": "stream",
     "text": [
      "Pclass value counts : \n"
     ]
    },
    {
     "data": {
      "text/plain": [
       "3    491\n",
       "1    216\n",
       "2    184\n",
       "Name: Pclass, dtype: int64"
      ]
     },
     "execution_count": 13,
     "metadata": {},
     "output_type": "execute_result"
    }
   ],
   "source": [
    "print(\"Pclass value counts : \");\n",
    "train[\"Pclass\"].value_counts()"
   ]
  },
  {
   "cell_type": "markdown",
   "metadata": {},
   "source": [
    "### Create dummy column\n",
    "\n",
    "create dummy columns for the Pclass features\n",
    "![title](pclassdummy.png)"
   ]
  },
  {
   "cell_type": "code",
   "execution_count": 14,
   "metadata": {},
   "outputs": [],
   "source": [
    "def create_dummies(df, column_name):\n",
    "    dummies = pd.get_dummies(df[column_name],prefix=column_name)\n",
    "    df = pd.concat([df,dummies],axis=1)\n",
    "    return df\n",
    "\n",
    "for column in [\"Pclass\",\"Sex\",\"Age_categories\"]:\n",
    "    train = create_dummies(train,column)\n",
    "    test = create_dummies(test,column)"
   ]
  },
  {
   "cell_type": "markdown",
   "metadata": {},
   "source": [
    "## Create Machine Learning Model\n",
    "\n",
    "the model wil be using __Neural Network__ to perform classification\n",
    "using _Scikit Learn_ library with these workflow :\n",
    "* Instantiate the specific machine learning model\n",
    "* FIt the model to the training data\n",
    "* Use the model to make predictions\n",
    "* Evaluate the accuracy of the predictions"
   ]
  },
  {
   "cell_type": "code",
   "execution_count": 22,
   "metadata": {},
   "outputs": [
    {
     "data": {
      "text/plain": [
       "(891, 12)"
      ]
     },
     "execution_count": 22,
     "metadata": {},
     "output_type": "execute_result"
    }
   ],
   "source": [
    "columns = ['Pclass_1', 'Pclass_2', 'Pclass_3', 'Sex_female', 'Sex_male',\n",
    "       'Age_categories_Missing', 'Age_categories_Infant',\n",
    "       'Age_categories_Child', 'Age_categories_Teenager',\n",
    "       'Age_categories_Young Adult', 'Age_categories_Adult',\n",
    "       'Age_categories_Senior']\n",
    "\n",
    "# Convert dataset to array\n",
    "X = train[columns].values\n",
    "y = train['Survived'].values\n",
    "\n",
    "# Train test split\n",
    "from sklearn.model_selection import train_test_split\n",
    "X_train, X_test, y_train, y_test = train_test_split(\n",
    "    X, y, test_size=0.2, random_state=42)\n",
    "\n",
    "# Show Dimension\n",
    "X.shape"
   ]
  },
  {
   "cell_type": "code",
   "execution_count": 46,
   "metadata": {},
   "outputs": [],
   "source": [
    "import torch\n",
    "from torch import nn, optim\n",
    "import torch.nn.functional as F\n",
    "\n",
    "# Define Neural Network\n",
    "class Clasifier(nn.Module):\n",
    "    def __init__(self):\n",
    "        super().__init__()\n",
    "        self.fc1 = nn.Linear(12, 128)\n",
    "        self.fc2 = nn.Linear(128, 64)\n",
    "        self.fc3 = nn.Linear(64, 10)\n",
    "        self.fc4 = nn.Linear(10, 2)\n",
    "        # Add dropout with 0,3 prob\n",
    "        self.dropout = nn.Dropout(p=0.3)\n",
    "    \n",
    "    def forward(self, x):\n",
    "        x = self.dropout(F.relu(self.fc1(x)))\n",
    "        x = self.dropout(F.relu(self.fc2(x)))\n",
    "        x = self.dropout(F.relu(self.fc3(x)))\n",
    "        # Output layer\n",
    "        x = torch.sigmoid(self.fc4(x))\n",
    "        return x"
   ]
  },
  {
   "cell_type": "code",
   "execution_count": 56,
   "metadata": {},
   "outputs": [
    {
     "name": "stdout",
     "output_type": "stream",
     "text": [
      "Epoch 1\n",
      "Epoch 6\n",
      "Epoch 11\n",
      "Epoch 16\n",
      "Epoch 21\n",
      "Epoch 26\n",
      "Epoch 31\n",
      "Epoch 36\n",
      "Epoch 41\n",
      "Epoch 46\n"
     ]
    }
   ],
   "source": [
    "model = Clasifier()\n",
    "criterion = nn.CrossEntropyLoss()\n",
    "optimizer = optim.Adam(model.parameters(), lr=0.002)\n",
    "\n",
    "epochs = 50\n",
    "steps = 0\n",
    "batch_size = 50\n",
    "batch_no = len(X_train) // batch_size\n",
    "\n",
    "train_losses, test_losses = [], []\n",
    "\n",
    "from sklearn.utils import shuffle\n",
    "from torch.autograd import Variable\n",
    "\n",
    "for epoch in range(epochs):\n",
    "    running_loss = 0\n",
    "    if epoch % 5 == 0:\n",
    "        print ('Epoch {}'.format(epoch+1))\n",
    "    X_train, y_train = shuffle(X_train, y_train)\n",
    "    # Mini batch learning\n",
    "    for i in range(batch_no):\n",
    "        start = i * batch_size\n",
    "        end = start + batch_size\n",
    "        x_var = Variable(torch.FloatTensor(X_train[start:end]))\n",
    "        y_var = Variable(torch.LongTensor(y_train[start:end]))\n",
    "        \n",
    "        # Forward + Backward + Optimize\n",
    "        optimizer.zero_grad()\n",
    "        y_pred_var = model(x_var)\n",
    "        loss = criterion(y_pred_var, y_var)\n",
    "        loss.backward()\n",
    "        optimizer.step()\n",
    "        "
   ]
  },
  {
   "cell_type": "code",
   "execution_count": 65,
   "metadata": {},
   "outputs": [
    {
     "name": "stdout",
     "output_type": "stream",
     "text": [
      "Accuracy 0.8156424581005587\n"
     ]
    }
   ],
   "source": [
    "test_var = Variable(torch.FloatTensor(X_test), requires_grad=True)\n",
    "\n",
    "with torch.no_grad():\n",
    "    result = model(test_var)\n",
    "    \n",
    "values, labels = torch.max(result, 1)\n",
    "num_right = np.sum(labels.data.numpy() == y_test)\n",
    "print('Accuracy {}'.format(num_right / len(y_test)))"
   ]
  },
  {
   "cell_type": "code",
   "execution_count": null,
   "metadata": {},
   "outputs": [],
   "source": []
  }
 ],
 "metadata": {
  "kernelspec": {
   "display_name": "Python 3",
   "language": "python",
   "name": "python3"
  },
  "language_info": {
   "codemirror_mode": {
    "name": "ipython",
    "version": 3
   },
   "file_extension": ".py",
   "mimetype": "text/x-python",
   "name": "python",
   "nbconvert_exporter": "python",
   "pygments_lexer": "ipython3",
   "version": "3.6.7"
  }
 },
 "nbformat": 4,
 "nbformat_minor": 2
}
